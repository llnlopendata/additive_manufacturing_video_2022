{
  "cells": [
    {
      "cell_type": "markdown",
      "metadata": {
        "id": "ySX0A6IvjVtI"
      },
      "source": [
        "\n",
        "\n",
        "# Additive Manufacturing, video dataset\n",
        "\n",
        "**Publications:** \n",
        "\n",
        "X.Y. Lee, S.K. Saha, S. Sarkar, B. Giera. \"Automated detection of part quality during two-photon lithography via deep learning.\" *Additive Manufacturing* 36, December 2020: [doi.org/10.1016/j.addma.2020.101444](https://www.sciencedirect.com/science/article/pii/S2214860420308162?via%3Dihub)\n",
        "\n",
        "X.Y. Lee, S.K. Saha, S. Sarkar, B. Giera. \"wo Photon lithography additive manufacturing: Video dataset of parameter sweep of light dosages, photo-curable resins, and structures.\" *Data in Brief* 32, October 2020. [doi.org/10.1016/j.dib.2020.106119](https://www.sciencedirect.com/science/article/pii/S2352340920310131?via%3Dihub)."
      ]
    },
    {
      "cell_type": "markdown",
      "metadata": {
        "id": "g7V2o4fnjfDF"
      },
      "source": [
        "Two-photon lithography (TPL) is a widely used 3D nanoprinting technique that uses laser light to create objects. Challenges to large-scale adoption of this additive manufacturing method include identifying light dosage parameters and monitoring during fabrication. A research team from LLNL, Iowa State University, and Georgia Tech is applying machine learning models to tackle these challenges—i.e., accelerate the process of identifying optimal light dosage parameters and automate the detection of part quality. Funded by LLNL’s Laboratory Directed Research and Development Program, the project team has curated a video dataset of TPL processes for parameters such as light dosages, photo-curable resins, and structures. Both raw and labeled versions of the datasets are available on the links in the [Open Data Initiative page](https://data-science.llnl.gov/open-data-initiative).\n",
        "\n",
        "The code below uses the labeled dataset. "
      ]
    },
    {
      "cell_type": "markdown",
      "metadata": {
        "id": "MqMLNe-X7pJz"
      },
      "source": [
        "*Notebook compiled by Nisha Mulakken (mulakken1@llnl.gov) for LLNL Open Data Initiative, Summer 2022. Original code provided by research team.*"
      ]
    },
    {
      "cell_type": "markdown",
      "metadata": {
        "id": "AcqQ5sJwzaoi"
      },
      "source": [
        "## Data"
      ]
    },
    {
      "cell_type": "markdown",
      "metadata": {
        "id": "Vctd0bTaB2LK"
      },
      "source": [
        "The source data is stored at [Additive Manufacturing, video labeled data](https://data.mendeley.com/datasets/g574zx24zb/2). See example usage below. Download it onto Google Drive to be used in Colab. "
      ]
    },
    {
      "cell_type": "code",
      "execution_count": null,
      "metadata": {
        "colab": {
          "base_uri": "https://localhost:8080/"
        },
        "id": "TM9sSBTiBrLo",
        "outputId": "2d5e5e3b-823d-4bc6-9423-984e4630c0d3"
      },
      "outputs": [
        {
          "output_type": "stream",
          "name": "stdout",
          "text": [
            "Mounted at /content/gdrive\n"
          ]
        }
      ],
      "source": [
        "from google.colab import drive\n",
        "\n",
        "drive.mount('/content/gdrive')"
      ]
    },
    {
      "cell_type": "code",
      "execution_count": null,
      "metadata": {
        "id": "CXzArgM6djmI"
      },
      "outputs": [],
      "source": [
        "import os\n",
        "os.chdir(\"./gdrive/MyDrive/Additive_manufacturing/video_dataset_released_data_licensed\")"
      ]
    },
    {
      "cell_type": "markdown",
      "metadata": {
        "id": "eGjwa3yEcVqC"
      },
      "source": [
        "## Data Exploration"
      ]
    },
    {
      "cell_type": "markdown",
      "metadata": {
        "id": "MY6v6xTECGCD"
      },
      "source": [
        "We are using code sourced from the [Additive Manufacturing, video labeled data](https://data.mendeley.com/datasets/g574zx24zb/2) repository with slight edits to make it work in this environment."
      ]
    },
    {
      "cell_type": "code",
      "source": [
        "# Copyright 2022 Lawrence Livermore National Security, LLC.\n",
        "#\n",
        "# SPDX-License-Identifier: MIT\n",
        "\n",
        "from __future__ import print_function\n",
        "import os, datetime\n",
        "import cv2\n",
        "import random\n",
        "import numpy as np\n",
        "import keras\n",
        "from keras.preprocessing.image import ImageDataGenerator\n",
        "from keras.models import Sequential, load_model\n",
        "from keras.layers import Dense, Dropout, Activation, Flatten, TimeDistributed\n",
        "from keras.layers import Conv2D, MaxPooling2D, LSTM, BatchNormalization\n",
        "from keras.callbacks import ModelCheckpoint\n",
        "from keras.utils.np_utils import to_categorical\n",
        "import matplotlib.pyplot as plt\n",
        "from sklearn.utils import shuffle\n",
        "from sklearn.metrics import confusion_matrix, accuracy_score\n",
        "from sklearn.utils.multiclass import unique_labels\n",
        "import scipy\n",
        "import argparse\n",
        "# Adapted for Tensorflow 2 - Avoid using get_session after tensorflow 2.0 upgrade\n",
        "#from keras.backend.tensorflow_backend import set_session\n",
        "import tensorflow as tf\n",
        "import json\n",
        "import logging\n",
        "import utils\n",
        "from utils import plot_confusion_matrix\n",
        "import time\n",
        "\n"
      ],
      "metadata": {
        "id": "38IrouHAwuxY"
      },
      "execution_count": null,
      "outputs": []
    },
    {
      "cell_type": "code",
      "source": [
        "#sliding window parameters\n",
        "step = 5\n",
        "vid_len = 10"
      ],
      "metadata": {
        "id": "10TmDcr98ovy"
      },
      "execution_count": null,
      "outputs": []
    },
    {
      "cell_type": "code",
      "source": [
        "def model_defintion():\n",
        "    #model definition included for clarity but not needed to run trained provided\n",
        "    model = Sequential()\n",
        "    # define CNN model\n",
        "    model.add(TimeDistributed(Conv2D(args.c1, (5,5), padding='same', input_shape=(110, 110, 1))))\n",
        "    model.add(TimeDistributed(Activation('relu')))\n",
        "    model.add(TimeDistributed(MaxPooling2D(pool_size=(3, 3))))\n",
        "\n",
        "    model.add(TimeDistributed(Conv2D(args.c2, (3,3), padding='same')))\n",
        "    model.add(TimeDistributed(Activation('relu')))\n",
        "\n",
        "    model.add(TimeDistributed(Conv2D(args.c3, (3,3), padding='same')))\n",
        "    model.add(TimeDistributed(Activation('relu')))\n",
        "    model.add(TimeDistributed(MaxPooling2D(pool_size=(2, 2))))\n",
        "\n",
        "    model.add(TimeDistributed(Flatten()))\n",
        "\n",
        "    # define LSTM model\n",
        "    model.add(LSTM(units=args.fc1, return_sequences=False, stateful=False))\n",
        "    model.add(Dense(3, activation='softmax'))\n",
        "    return model\n"
      ],
      "metadata": {
        "id": "vpW4Ue_h3Uez"
      },
      "execution_count": null,
      "outputs": []
    },
    {
      "cell_type": "code",
      "source": [
        "def load_test_vids():\n",
        "    #load sub-sampled video testing data (each video is only 10 frames of a structure)\n",
        "    test_data = np.load('test_data.npy', allow_pickle=True)\n",
        "    #load full video testing data (each video is a full structure)\n",
        "    test_struct_data = np.load('test_struct_data.npy', allow_pickle=True)\n",
        "\n",
        "    x_test = test_data[:,0]\n",
        "    y_test = test_data[:,1]\n",
        "    x_test  = np.stack([x for x in x_test])\n",
        "\n",
        "    x_struct_test = test_struct_data[:,0]\n",
        "    y_struct_test = test_struct_data[:,1]\n",
        "    x_struct_test  = np.stack([x for x in x_struct_test])\n",
        "\n",
        "    return(x_test, y_test), (x_struct_test, y_struct_test)\n"
      ],
      "metadata": {
        "id": "slIjD1Tj3XrB"
      },
      "execution_count": null,
      "outputs": []
    },
    {
      "cell_type": "code",
      "source": [
        "os.environ[\"CUDA_VISIBLE_DEVICES\"] = '1'"
      ],
      "metadata": {
        "id": "uRmG7QyI3YRz"
      },
      "execution_count": null,
      "outputs": []
    },
    {
      "cell_type": "code",
      "source": [
        "# Limit GPU memory growth\n",
        "gpus = tf.config.experimental.list_physical_devices('GPU')\n",
        "if gpus:\n",
        "  try:\n",
        "    # Currently, memory growth needs to be the same across GPUs\n",
        "    for gpu in gpus:\n",
        "      tf.config.experimental.set_memory_growth(gpu, True)\n",
        "    logical_gpus = tf.config.list_logical_devices('GPU')\n",
        "    print(len(gpus), \"Physical GPUs,\", len(logical_gpus), \"Logical GPUs\")\n",
        "  except RuntimeError as e:\n",
        "    # Memory growth must be set before GPUs have been initialized\n",
        "    print(e)\n"
      ],
      "metadata": {
        "id": "W028UPqiZHBp"
      },
      "execution_count": null,
      "outputs": []
    },
    {
      "cell_type": "code",
      "source": [
        "(x_test, y_test), (x_structs, y_structs) = load_test_vids()\n"
      ],
      "metadata": {
        "id": "gR4R9SkW4wyO"
      },
      "execution_count": null,
      "outputs": []
    },
    {
      "cell_type": "code",
      "source": [
        "num_classes = 3\n",
        "y_test = keras.utils.np_utils.to_categorical(y_test, num_classes)"
      ],
      "metadata": {
        "id": "6d1P4Hm13YgI"
      },
      "execution_count": null,
      "outputs": []
    },
    {
      "cell_type": "code",
      "source": [
        "x_test = np.expand_dims(x_test, axis=4)"
      ],
      "metadata": {
        "id": "iw8ozkgDXXys"
      },
      "execution_count": null,
      "outputs": []
    },
    {
      "cell_type": "code",
      "source": [
        "x_test = x_test.astype('float32')\n",
        "x_test /= 255"
      ],
      "metadata": {
        "id": "X_2Rl_UYXX45"
      },
      "execution_count": null,
      "outputs": []
    },
    {
      "cell_type": "code",
      "source": [
        "y_structs = keras.utils.np_utils.to_categorical(y_structs, num_classes)"
      ],
      "metadata": {
        "id": "NxRVFxtvXX9k"
      },
      "execution_count": null,
      "outputs": []
    },
    {
      "cell_type": "code",
      "source": [
        "x_structs = np.expand_dims(x_structs, axis=4)"
      ],
      "metadata": {
        "id": "jurqpC77anKL"
      },
      "execution_count": null,
      "outputs": []
    },
    {
      "cell_type": "code",
      "source": [
        "x_structs = x_structs.astype('float32')\n",
        "x_structs /= 255"
      ],
      "metadata": {
        "id": "ntFUemLmanQO"
      },
      "execution_count": null,
      "outputs": []
    },
    {
      "cell_type": "code",
      "source": [
        "model = load_model('trained_model.h5')"
      ],
      "metadata": {
        "id": "q4_NYUh2anUm"
      },
      "execution_count": null,
      "outputs": []
    },
    {
      "cell_type": "code",
      "source": [
        "print(model.summary())"
      ],
      "metadata": {
        "id": "O34KsxsQXYDD",
        "colab": {
          "base_uri": "https://localhost:8080/"
        },
        "outputId": "05138a7b-c1dd-4dd3-92c4-8ab6f99abbf4"
      },
      "execution_count": null,
      "outputs": [
        {
          "output_type": "stream",
          "name": "stdout",
          "text": [
            "Model: \"sequential_1\"\n",
            "_________________________________________________________________\n",
            " Layer (type)                Output Shape              Param #   \n",
            "=================================================================\n",
            " time_distributed_1 (TimeDis  (None, 10, 110, 110, 64)  1664     \n",
            " tributed)                                                       \n",
            "                                                                 \n",
            " time_distributed_2 (TimeDis  (None, 10, 110, 110, 64)  0        \n",
            " tributed)                                                       \n",
            "                                                                 \n",
            " time_distributed_3 (TimeDis  (None, 10, 36, 36, 64)   0         \n",
            " tributed)                                                       \n",
            "                                                                 \n",
            " time_distributed_4 (TimeDis  (None, 10, 36, 36, 64)   36928     \n",
            " tributed)                                                       \n",
            "                                                                 \n",
            " time_distributed_5 (TimeDis  (None, 10, 36, 36, 64)   0         \n",
            " tributed)                                                       \n",
            "                                                                 \n",
            " time_distributed_6 (TimeDis  (None, 10, 36, 36, 128)  73856     \n",
            " tributed)                                                       \n",
            "                                                                 \n",
            " time_distributed_7 (TimeDis  (None, 10, 36, 36, 128)  0         \n",
            " tributed)                                                       \n",
            "                                                                 \n",
            " time_distributed_8 (TimeDis  (None, 10, 18, 18, 128)  0         \n",
            " tributed)                                                       \n",
            "                                                                 \n",
            " time_distributed_9 (TimeDis  (None, 10, 41472)        0         \n",
            " tributed)                                                       \n",
            "                                                                 \n",
            " lstm_1 (LSTM)               (None, 32)                5312640   \n",
            "                                                                 \n",
            " dense_1 (Dense)             (None, 3)                 99        \n",
            "                                                                 \n",
            "=================================================================\n",
            "Total params: 5,425,187\n",
            "Trainable params: 5,425,187\n",
            "Non-trainable params: 0\n",
            "_________________________________________________________________\n",
            "None\n"
          ]
        }
      ]
    },
    {
      "cell_type": "code",
      "source": [
        "start = time.time()\n",
        "scores = model.evaluate(x_test, y_test, verbose=1, batch_size=64)\n",
        "end = time.time()\n",
        "print('Elasped Time:' +  str(end-start) + ' for ' + str(x_structs.shape[0]) + ' strutures and ' + str(x_test.shape[0]) + ' sequence')\n",
        "print(' ')\n",
        "print('Test loss:', scores[0])\n",
        "print('Test accuracy:', scores[1])"
      ],
      "metadata": {
        "colab": {
          "base_uri": "https://localhost:8080/"
        },
        "id": "l-lgsdh-18IV",
        "outputId": "5c9dcc25-76a2-4335-bfc1-bafe40ab0541"
      },
      "execution_count": null,
      "outputs": [
        {
          "output_type": "stream",
          "name": "stdout",
          "text": [
            "77/77 [==============================] - 274s 4s/step - loss: 0.2545 - accuracy: 0.9516\n",
            "Elasped Time:322.42188000679016 for 204 strutures and 4896 sequence\n",
            " \n",
            "Test loss: 0.2545314133167267\n",
            "Test accuracy: 0.9515931606292725\n"
          ]
        }
      ]
    },
    {
      "cell_type": "code",
      "source": [
        "y_pred = []\n",
        "y_true = []"
      ],
      "metadata": {
        "id": "40o-E4ib18MH"
      },
      "execution_count": null,
      "outputs": []
    },
    {
      "cell_type": "code",
      "source": [
        "temp = (np.argmax(y_test, axis=1))\n",
        "for i in range(len(temp)):\n",
        "  y_true.append(int(temp[i]))"
      ],
      "metadata": {
        "id": "5RJOsd9r19DM"
      },
      "execution_count": null,
      "outputs": []
    },
    {
      "cell_type": "code",
      "source": [
        "for i in range(len(y_test)):\n",
        "  y_new_pred = model.predict(np.expand_dims(x_test[i], axis=0), batch_size=1, verbose=0)\n",
        "  y_new = np.argmax(y_new_pred,axis=1)\n",
        "  y_pred.append(int(y_new[0]))"
      ],
      "metadata": {
        "id": "2q9oyBG83sWB"
      },
      "execution_count": null,
      "outputs": []
    },
    {
      "cell_type": "code",
      "source": [
        "plot_confusion_matrix(np.array(y_true),np.array(y_pred), classes = ['0','1','2'], title='Confusion Matrix')"
      ],
      "metadata": {
        "colab": {
          "base_uri": "https://localhost:8080/",
          "height": 331
        },
        "id": "dbZWsiVM3sZ4",
        "outputId": "0b5a4956-4002-47cf-ed0e-3b10862e9930"
      },
      "execution_count": null,
      "outputs": [
        {
          "output_type": "stream",
          "name": "stdout",
          "text": [
            "Confusion matrix, without normalization\n"
          ]
        },
        {
          "output_type": "execute_result",
          "data": {
            "text/plain": [
              "<matplotlib.axes._subplots.AxesSubplot at 0x7f54533fcb50>"
            ]
          },
          "metadata": {},
          "execution_count": 24
        },
        {
          "output_type": "display_data",
          "data": {
            "text/plain": [
              "<Figure size 432x288 with 2 Axes>"
            ],
            "image/png": "[encoded data removed]"
          },
          "metadata": {
            "needs_background": "light"
          }
        }
      ]
    },
    {
      "cell_type": "code",
      "source": [
        "CM_sub = {\"y_true\" : y_true, \"y_pred\" : y_pred}"
      ],
      "metadata": {
        "id": "1R9ky6bU-BL_"
      },
      "execution_count": null,
      "outputs": []
    },
    {
      "cell_type": "code",
      "source": [
        "# Evaluating based on structure. (x_structs, y_structs, struct_names)\n",
        "struct_true = []\n",
        "struct_pred = []"
      ],
      "metadata": {
        "id": "X5VQaO0P-CPu"
      },
      "execution_count": null,
      "outputs": []
    },
    {
      "cell_type": "code",
      "source": [
        "#generate label for structures from one-hot encoding\n",
        "temp = (np.argmax(y_structs, axis=1))\n",
        "for i in range(len(temp)):\n",
        "  struct_true.append(int(temp[i]))"
      ],
      "metadata": {
        "id": "rj7vraJt-CUE"
      },
      "execution_count": null,
      "outputs": []
    },
    {
      "cell_type": "code",
      "source": [
        "#generate prediction for structures\n",
        "for i in range(len(y_structs)):\n",
        "  frame_y = []\n",
        "  # run a sliding window through temporal dimension of entire video to feed frames into model by batch\n",
        "  for j in range(0, len(x_structs[i])-vid_len, step):\n",
        "    struct_new_pred = model.predict(np.expand_dims(x_structs[i][j:j+vid_len], axis=0), batch_size=1, verbose=0)\n",
        "    struct_new = np.argmax(struct_new_pred,axis=1)\n",
        "    frame_y.append(int(struct_new[0]))\n",
        "    \n",
        "  #account for last window element of the list\n",
        "  struct_new_pred = model.predict(np.expand_dims(x_structs[i][-vid_len:], axis=0), batch_size=1, verbose=0)\n",
        "  struct_new = np.argmax(struct_new_pred,axis=1)\n",
        "  #collect labels for each sliding window\n",
        "  frame_y.append(int(struct_new[0]))\n",
        "    \n",
        "  #aggregate scores for each structure\n",
        "  if (2 in frame_y):\n",
        "    struct_pred.append(2)\n",
        "  elif (1 in frame_y):\n",
        "    struct_pred.append(1)\n",
        "  else:\n",
        "    struct_pred.append(0)"
      ],
      "metadata": {
        "id": "lUUs6Y4c-CbK"
      },
      "execution_count": null,
      "outputs": []
    },
    {
      "cell_type": "code",
      "source": [
        "  struct_scores = accuracy_score(struct_true, struct_pred)\n",
        "  print('Predicted Structures:',struct_pred)\n",
        "  print('True Structures:', struct_true)\n",
        "  plot_confusion_matrix(np.array(struct_true),np.array(struct_pred), classes = ['0','1','2'], title='Confusion Matrix')\n",
        "  CM = {\"y_true\" : struct_true,\n",
        "        \"y_pred\" : struct_pred}"
      ],
      "metadata": {
        "colab": {
          "base_uri": "https://localhost:8080/",
          "height": 368
        },
        "id": "2EiFvalKBApv",
        "outputId": "47baa544-01a3-4fa7-dfa0-3c4b7cb58a12"
      },
      "execution_count": null,
      "outputs": [
        {
          "output_type": "stream",
          "name": "stdout",
          "text": [
            "Predicted Structures: [0, 0, 0, 0, 0, 1, 1, 1, 1, 2, 1, 2, 2, 2, 2, 2, 0, 0, 0, 1, 1, 1, 1, 1, 1, 2, 2, 2, 2, 2, 2, 2, 2, 2, 0, 0, 1, 1, 1, 1, 1, 1, 1, 2, 2, 1, 2, 2, 2, 2, 0, 0, 0, 0, 0, 1, 1, 1, 1, 1, 1, 1, 1, 1, 1, 1, 1, 2, 2, 2, 1, 1, 2, 2, 2, 2, 2, 2, 2, 2, 0, 1, 1, 1, 1, 2, 1, 1, 1, 1, 2, 2, 2, 0, 0, 0, 0, 1, 2, 1, 1, 1, 1, 1, 2, 2, 2, 2, 2, 0, 1, 1, 1, 1, 1, 1, 1, 1, 1, 2, 2, 2, 2, 2, 2, 0, 0, 0, 1, 1, 2, 1, 2, 2, 0, 0, 0, 1, 1, 2, 2, 2, 0, 1, 1, 1, 1, 2, 2, 2, 2, 2, 2, 2, 0, 0, 1, 1, 1, 1, 1, 2, 2, 2, 2, 0, 0, 1, 1, 1, 1, 1, 1, 2, 2, 0, 0, 0, 0, 1, 1, 1, 1, 2, 2, 0, 0, 1, 1, 2, 1, 1, 1, 1, 1, 1, 1, 1, 1, 2, 2, 2, 2, 2]\n",
            "True Structures: [0, 0, 0, 0, 0, 1, 1, 1, 1, 1, 1, 2, 2, 2, 2, 2, 0, 0, 0, 1, 1, 1, 1, 1, 1, 2, 2, 2, 2, 2, 2, 2, 2, 2, 0, 0, 1, 1, 1, 1, 1, 1, 1, 1, 2, 1, 2, 2, 2, 2, 0, 0, 0, 0, 0, 1, 1, 1, 1, 1, 1, 1, 1, 1, 1, 1, 1, 2, 2, 2, 1, 1, 2, 2, 2, 2, 2, 2, 2, 2, 0, 1, 1, 1, 1, 1, 1, 1, 1, 1, 2, 2, 2, 0, 0, 0, 0, 1, 1, 1, 1, 1, 1, 1, 2, 2, 2, 2, 2, 0, 1, 1, 1, 1, 1, 1, 1, 1, 1, 2, 2, 2, 2, 2, 2, 0, 0, 0, 1, 1, 2, 2, 2, 2, 0, 0, 0, 1, 1, 1, 2, 2, 0, 1, 1, 1, 1, 1, 2, 1, 2, 2, 2, 2, 0, 0, 1, 1, 1, 1, 1, 2, 2, 2, 2, 0, 0, 1, 1, 1, 1, 1, 1, 2, 2, 0, 0, 0, 0, 1, 1, 1, 1, 2, 2, 0, 0, 1, 1, 1, 1, 1, 1, 1, 1, 1, 1, 1, 2, 2, 2, 2, 2, 2]\n",
            "Confusion matrix, without normalization\n"
          ]
        },
        {
          "output_type": "display_data",
          "data": {
            "text/plain": [
              "<Figure size 432x288 with 2 Axes>"
            ],
            "image/png": "[encoded data removed]"
          },
          "metadata": {
            "needs_background": "light"
          }
        }
      ]
    },
    {
      "cell_type": "code",
      "source": [],
      "metadata": {
        "id": "kjD5D9T6BAvZ"
      },
      "execution_count": null,
      "outputs": []
    }
  ],
  "metadata": {
    "accelerator": "GPU",
    "colab": {
      "collapsed_sections": [],
      "provenance": []
    },
    "kernelspec": {
      "display_name": "Python 3",
      "language": "python",
      "name": "python3"
    },
    "language_info": {
      "codemirror_mode": {
        "name": "ipython",
        "version": 3
      },
      "file_extension": ".py",
      "mimetype": "text/x-python",
      "name": "python",
      "nbconvert_exporter": "python",
      "pygments_lexer": "ipython3",
      "version": "3.7.0"
    }
  },
  "nbformat": 4,
  "nbformat_minor": 0
}